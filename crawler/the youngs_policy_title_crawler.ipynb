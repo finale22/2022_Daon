{
 "cells": [
  {
   "cell_type": "code",
   "execution_count": 24,
   "id": "75f8fac6",
   "metadata": {},
   "outputs": [
    {
     "name": "stdout",
     "output_type": "stream",
     "text": [
      "정책 1 : 전북형 청년취업지원사업\n",
      "정책 2 : 전북형 청년취업지원사업\n",
      "정책 3 : 미취업청년 취업장려금 지원\n",
      "정책 4 : 진주시일자리지원센터\n",
      "정책 5 : 청년 면접수당 지원\n",
      "정책 6 : 2022 기장군 온택트 청년 취업아카데미 운영\n",
      "정책 7 : 지역청년 인적자원특화 취·창업 지원사업\n",
      "정책 8 : 문화거점시설 청년활동가 양성\n",
      "정책 9 : 청년취업 광주나래(정장대여)서비스\n",
      "정책 10 : 토닥토닥 청년일자리(job)카페 운영\n",
      "정책 11 : 취업콘서트사업\n",
      "정책 12 : 청년행복잡기 희망드림단(지역주도형 청년일자리사업)\n",
      "정책 13 : 지역 연구마을 등 유망벤처기업 청년인재매칭사업\n",
      "정책 14 : 청년농업인 취농인턴제\n",
      "정책 15 : 장애청년인턴 및 현장매니저 지원사업\n",
      "정책 16 : 청년진로콘텐츠 발굴 프로젝트\n",
      "정책 17 : 청년사업장-청년잇기 예스매칭\n",
      "정책 18 : 지역주도형 청년문화일자리 지원사업\n",
      "정책 19 : 청년 취업날개 코디네이터\n",
      "정책 20 : 글로벌 청년취업 지원\n",
      "정책 21 : 전북형 청년취업지원사업\n"
     ]
    }
   ],
   "source": [
    "from selenium import webdriver\n",
    "from selenium.webdriver.common.by import By\n",
    "from selenium.webdriver.common.keys import Keys\n",
    "from selenium.webdriver.chrome.service import Service\n",
    "from bs4 import BeautifulSoup     \n",
    "import pandas as pd   \n",
    "import openpyxl\n",
    "import time\n",
    "import sys\n",
    "import re\n",
    "import math\n",
    "import random\n",
    "\n",
    "s = Service(\"c:/py_temp/chromedriver.exe\")\n",
    "driver = webdriver.Chrome(service=s)\n",
    "\n",
    "# 사용자로부터 입력 받기\n",
    "query_txt = '취업'\n",
    "cnt = 20\n",
    "page_cnt = math.ceil(cnt / 10)\n",
    "\n",
    "# 웹사이트 접속 + 검색\n",
    "url = 'https://www.youthcenter.go.kr/main.do'\n",
    "driver.get(url)\n",
    "driver.maximize_window()\n",
    "time.sleep(2)\n",
    "s_time = time.time( )\n",
    "element = driver.find_element(By.ID,'searchWordInput')\n",
    "driver.find_element(By.ID,'searchWordInput').click( )\n",
    "element.send_keys(query_txt)\n",
    "element.send_keys(\"\\n\")\n",
    "time.sleep(2)\n",
    "driver.find_element(By.XPATH,'//*[@id=\"search_gnb\"]/li[3]/a').click()\n",
    "time.sleep(1)\n",
    "\n",
    "# 크롤링\n",
    "no = 1\n",
    "for a in range(1, page_cnt + 1) :\n",
    "    html = driver.page_source\n",
    "    soup = BeautifulSoup(html, 'html.parser')\n",
    "    search_con_list = soup.find('div','search_con_list').find_all('li')\n",
    "        \n",
    "    for i in search_con_list:\n",
    "        lump = i.find('a').find('strong')\n",
    "        title = str(i.find('a').find('strong').get_text())\n",
    "        title = re.sub('(\\d{4})년', '', title, 0).strip() # 정규표현식으로 년도 표기 제외\n",
    "        print('정책', no, ':', title)\n",
    "        no += 1\n",
    "        time.sleep(0.5)\n",
    "        if no > cnt + 1:\n",
    "            break"
   ]
  }
 ],
 "metadata": {
  "kernelspec": {
   "display_name": "Python 3 (ipykernel)",
   "language": "python",
   "name": "python3"
  },
  "language_info": {
   "codemirror_mode": {
    "name": "ipython",
    "version": 3
   },
   "file_extension": ".py",
   "mimetype": "text/x-python",
   "name": "python",
   "nbconvert_exporter": "python",
   "pygments_lexer": "ipython3",
   "version": "3.8.10"
  }
 },
 "nbformat": 4,
 "nbformat_minor": 5
}
