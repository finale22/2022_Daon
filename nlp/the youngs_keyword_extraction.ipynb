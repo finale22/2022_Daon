{
 "cells": [
  {
   "cell_type": "code",
   "execution_count": 2,
   "id": "6d62f113",
   "metadata": {},
   "outputs": [],
   "source": [
    "# 모듈 import\n",
    "import re\n",
    "import pandas as pd\n",
    "from tqdm import tqdm\n",
    "from konlpy.tag import Okt\n",
    "from collections import Counter\n",
    "from pykospacing import Spacing #pip install git+https://github.com/haven-jeon/PyKoSpacing.git \n",
    "import time"
   ]
  },
  {
   "cell_type": "code",
   "execution_count": 67,
   "id": "bee42586",
   "metadata": {},
   "outputs": [],
   "source": [
    "# 빈도분석 + 키워드 추출 함수\n",
    "\n",
    "def load_area():\n",
    "    df = pd.read_csv('해커톤경산시.csv', encoding='ms949')\n",
    "    df_body = df.iloc[:, 1:2]\n",
    "    body = df_body['사업명']\n",
    "    return body\n",
    "\n",
    "def load_stopwords():\n",
    "    with open('stopwords.txt', 'r') as f:\n",
    "        list_file = f.readlines()\n",
    "    return list_file[0].split(\",\")\n",
    "\n",
    "# 정규 표현식을 통해 한글 단어만 남기기 (이모티콘, 초성, 영어 제거)\n",
    "def extract_word(text):\n",
    "    hangul = re.compile('[^가-힣]') \n",
    "    result = hangul.sub(' ', text)\n",
    "    return result\n",
    "\n",
    "def make_wordlist(body,stopwords):\n",
    "    result = []\n",
    "    for i in body:\n",
    "        #정규표현식 적용\n",
    "        #print(\"데이터 정제 중....\")\n",
    "        words = pd.Series(i)\n",
    "        words = words.apply(lambda x:extract_word(x))\n",
    "        spacing = Spacing()\n",
    "        words = words.apply(lambda x:spacing(x))\n",
    "        \n",
    "        #형태소 추출\n",
    "        #print(\"형태소 추출 중....\")\n",
    "        okt = Okt()\n",
    "        words = \" \".join(words.tolist())\n",
    "        words = okt.morphs(words,stem=True)\n",
    "        \n",
    "        #한글자 제거\n",
    "        #print(\"한글자 제거 중....\")\n",
    "        words = [x for x in words if len(x)>1]\n",
    "        \n",
    "        #불용어 제거\n",
    "        #print(\"불용어 제거 중....\")\n",
    "        words = [x for x in words if x not in stopwords]\n",
    "        \n",
    "        # 형태소 분석 결과를 리스트에 저장\n",
    "        result.append(words)\n",
    "        \n",
    "    return result\n",
    "\n",
    "\n",
    "def run():\n",
    "    body = load_area()\n",
    "    print(make_wordlist(body, load_stopwords()))"
   ]
  },
  {
   "cell_type": "code",
   "execution_count": 68,
   "id": "ec25c8c8",
   "metadata": {},
   "outputs": [
    {
     "name": "stdout",
     "output_type": "stream",
     "text": [
      "[['전기자동차', '보급', '사업', '하반기', '시행', '공고'], ['미디어', '콘텐츠', '산업', '육성', '사업'], ['경북', '청년', '키친', '조성', '운영'], ['주산지', '일관', '기계화', '농기', '지원', '사업', '신청', '모집', '공고'], ['경로당', '운영', '지원'], ['노인', '일자리', '사회', '활동', '지원', '사업'], ['장애인', '휠체어', '수리', '비용', '지원'], ['청년', '취업', '날개', '디네'], ['임산부', '건강', '관리', '지원'], ['신혼부부', '임차보증금', '이자', '지원'], ['영유', '보육료', '지원'], ['영아', '수당', '지원'], ['귀농', '정착', '지원', '사업'], ['다자', '지원', '사업'], ['경산시', '긴급', '재난', '원금'], ['중소기업', '청년', '근로자', '미래', '희망', '지원', '사업'], ['청년', '농부', '육성', '지원'], ['산업', '중소기업', '청년', '교통비', '지원', '사업']]\n"
     ]
    }
   ],
   "source": [
    "run()"
   ]
  },
  {
   "cell_type": "code",
   "execution_count": null,
   "id": "b6a03263",
   "metadata": {},
   "outputs": [],
   "source": []
  }
 ],
 "metadata": {
  "kernelspec": {
   "display_name": "Python 3 (ipykernel)",
   "language": "python",
   "name": "python3"
  },
  "language_info": {
   "codemirror_mode": {
    "name": "ipython",
    "version": 3
   },
   "file_extension": ".py",
   "mimetype": "text/x-python",
   "name": "python",
   "nbconvert_exporter": "python",
   "pygments_lexer": "ipython3",
   "version": "3.8.10"
  }
 },
 "nbformat": 4,
 "nbformat_minor": 5
}
